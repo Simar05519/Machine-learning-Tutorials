{
  "nbformat": 4,
  "nbformat_minor": 0,
  "metadata": {
    "kernelspec": {
      "display_name": "Python 3.6 (introtf)",
      "language": "python",
      "name": "introtf"
    },
    "language_info": {
      "codemirror_mode": {
        "name": "ipython",
        "version": 3
      },
      "file_extension": ".py",
      "mimetype": "text/x-python",
      "name": "python",
      "nbconvert_exporter": "python",
      "pygments_lexer": "ipython3",
      "version": "3.7.5"
    },
    "colab": {
      "name": "bitcoin price data.ipynb",
      "private_outputs": true,
      "provenance": [],
      "collapsed_sections": [],
      "include_colab_link": true
    }
  },
  "cells": [
    {
      "cell_type": "markdown",
      "metadata": {
        "id": "view-in-github",
        "colab_type": "text"
      },
      "source": [
        "<a href=\"https://colab.research.google.com/github/smithakolan/Machine-learning-Tutorials/blob/main/bitcoin_price_data.ipynb\" target=\"_parent\"><img src=\"https://colab.research.google.com/assets/colab-badge.svg\" alt=\"Open In Colab\"/></a>"
      ]
    },
    {
      "cell_type": "markdown",
      "metadata": {
        "id": "UaobXp5-Lvlx"
      },
      "source": [
        "# **Get Bitcoin Price Data Using Python (CoinCap API | Time Series Data-processing)**"
      ]
    },
    {
      "cell_type": "markdown",
      "metadata": {
        "id": "E_VATHL-L1sw"
      },
      "source": [
        "**Created by: [Smitha Kolan](https://www.youtube.com/c/smithakolan)**"
      ]
    },
    {
      "cell_type": "markdown",
      "metadata": {
        "id": "G5DfqbTg4_Vl"
      },
      "source": [
        "## Getting bitcoin price data from CoinCap API"
      ]
    },
    {
      "cell_type": "code",
      "metadata": {
        "id": "Zu_inJyp4_Vp"
      },
      "source": [
        "import requests\n",
        "import csv\n",
        "import json\n",
        "\n",
        "url = \"http://api.coincap.io/v2/assets/bitcoin/history?interval=d1&start=1592585794000&end=1613753794000\"\n",
        "\n",
        "payload = {}\n",
        "headers= {}\n",
        "\n",
        "response = requests.request(\"GET\", url, headers=headers, data = payload)\n",
        "\n",
        "json_data = json.loads(response.text.encode('utf8'))"
      ],
      "execution_count": null,
      "outputs": []
    },
    {
      "cell_type": "markdown",
      "metadata": {
        "id": "DsfwLbefzhLe"
      },
      "source": [
        "## Checking the json response"
      ]
    },
    {
      "cell_type": "code",
      "metadata": {
        "id": "DfDB_GIA8lkm"
      },
      "source": [
        "print(json_data)"
      ],
      "execution_count": null,
      "outputs": []
    },
    {
      "cell_type": "markdown",
      "metadata": {
        "id": "KqUrdVG75xFE"
      },
      "source": [
        "### Storing the data we want"
      ]
    },
    {
      "cell_type": "code",
      "metadata": {
        "id": "l04wsynI5vzr"
      },
      "source": [
        "bitcoin_data = json_data[\"data\"]"
      ],
      "execution_count": null,
      "outputs": []
    },
    {
      "cell_type": "markdown",
      "metadata": {
        "id": "VA-npLJxzqCc"
      },
      "source": [
        "## Storing the json data in a dataframe"
      ]
    },
    {
      "cell_type": "code",
      "metadata": {
        "id": "w2amljJ6PBx1"
      },
      "source": [
        "import pandas as pd\n",
        "\n",
        "df = pd.DataFrame(bitcoin_data)\n",
        "df.to_csv('bitcoin-usd.csv', index=False)"
      ],
      "execution_count": null,
      "outputs": []
    },
    {
      "cell_type": "code",
      "metadata": {
        "id": "jk5bo2KyPNrD"
      },
      "source": [
        "print(df.sample)"
      ],
      "execution_count": null,
      "outputs": []
    },
    {
      "cell_type": "code",
      "metadata": {
        "id": "71EbwT0B-M-B"
      },
      "source": [
        "import matplotlib.pyplot as plt\n",
        "df.plot(x ='time', y='priceUsd', kind = 'line')\n",
        "plt.show()"
      ],
      "execution_count": null,
      "outputs": []
    },
    {
      "cell_type": "markdown",
      "metadata": {
        "id": "rc0iPyUtOMvP"
      },
      "source": [
        "## Identifying data types in our dataframe"
      ]
    },
    {
      "cell_type": "code",
      "metadata": {
        "id": "7aChAv-iNbWZ"
      },
      "source": [
        "df.dtypes"
      ],
      "execution_count": null,
      "outputs": []
    },
    {
      "cell_type": "markdown",
      "metadata": {
        "id": "B_70hem70SO7"
      },
      "source": [
        "## Removing obsolete data column"
      ]
    },
    {
      "cell_type": "code",
      "metadata": {
        "id": "xCJXT7PeMPXV"
      },
      "source": [
        "df = pd.DataFrame(bitcoin_data, columns=['time', 'priceUsd'])\n",
        "print(df.sample)"
      ],
      "execution_count": null,
      "outputs": []
    },
    {
      "cell_type": "markdown",
      "metadata": {
        "id": "1x3xkGBk0d5s"
      },
      "source": [
        "## Converting 'priceUsd' data from type object to float"
      ]
    },
    {
      "cell_type": "code",
      "metadata": {
        "id": "4pgOJoYLQRia"
      },
      "source": [
        "df['priceUsd'] = pd.to_numeric(df['priceUsd'], errors='coerce').fillna(0, downcast='infer')"
      ],
      "execution_count": null,
      "outputs": []
    },
    {
      "cell_type": "code",
      "metadata": {
        "id": "HNAf82MQQdTd"
      },
      "source": [
        "df.dtypes"
      ],
      "execution_count": null,
      "outputs": []
    },
    {
      "cell_type": "code",
      "metadata": {
        "id": "OTLwf0xruINZ"
      },
      "source": [
        "df.info()"
      ],
      "execution_count": null,
      "outputs": []
    },
    {
      "cell_type": "markdown",
      "metadata": {
        "id": "fDXzdeuG0ypx"
      },
      "source": [
        "## Plotting bitcoin price data"
      ]
    },
    {
      "cell_type": "code",
      "metadata": {
        "id": "PML36D2aLbIY"
      },
      "source": [
        "df.plot(x ='time', y='priceUsd', kind = 'line')\n",
        "plt.show()"
      ],
      "execution_count": null,
      "outputs": []
    }
  ]
}